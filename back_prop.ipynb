{
 "cells": [
  {
   "cell_type": "code",
   "execution_count": null,
   "metadata": {},
   "outputs": [],
   "source": [
    "%load_ext autoreload\n",
    "%autoreload 2\n",
    "\n",
    "import numpy as np\n",
    "from bwsi_grader.cogworks.autograd import grade_op, grade_arithmetic\n",
    "from bwsi_grader.cogworks.autograd import grade_backprop, grade_op_backprop\n",
    "from operations import Add, Subtract, Multiply, Divide, Power"
   ]
  }
 ],
 "metadata": {
  "language_info": {
   "name": "python"
  }
 },
 "nbformat": 4,
 "nbformat_minor": 2
}
